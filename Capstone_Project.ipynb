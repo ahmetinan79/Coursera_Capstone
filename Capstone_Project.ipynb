{
 "cells": [
  {
   "cell_type": "markdown",
   "metadata": {},
   "source": [
    "# This notebook will the main notebook for my Cursera Capstone project. "
   ]
  },
  {
   "cell_type": "code",
   "execution_count": 1,
   "metadata": {},
   "outputs": [],
   "source": [
    "import numpy as np\n",
    "import pandas as pd"
   ]
  },
  {
   "cell_type": "code",
   "execution_count": 2,
   "metadata": {},
   "outputs": [
    {
     "name": "stdout",
     "output_type": "stream",
     "text": [
      "Hello Capstone Project Course!\n"
     ]
    }
   ],
   "source": [
    "print('Hello Capstone Project Course!')"
   ]
  },
  {
   "cell_type": "markdown",
   "metadata": {},
   "source": [
    "# Business Problem and Project Objective\n",
    "- The business problem is to predict the level of severity in case of a traffic collusion based on the given the details of the collusion. \n",
    "- The audience of this problem would be the Police Department, local authorities, insurance companies and also the health sector in case of injuries. \n",
    "- This business problem is a classification problem and the objective of the project is to build a classifier model to make this prediction.\n",
    "- To achieve this purpose the data taken from Seattle Police Department and Seattle Traffic Department will be used. The data is provided by Cursera within the framework of ML Capstone project.\n",
    "- Nevertheless, first we need to understand, prepare and analyze the data.\n",
    "- Then, we can use different classification models and compare their performance to come up with the best model. "
   ]
  },
  {
   "cell_type": "markdown",
   "metadata": {},
   "source": [
    "# Data\n",
    "- The data is taken from Seattle Police Department and Seattle Traffic Department records. It is provided by Cursera within the framework of ML Capstone project.\n",
    "- It has 38 columns and 194672 rows. 16 columns are numerical and the rest is categorical or object variables. \n",
    "- The data includes details of a traffic collusion including different types of IDs, location, address, date and time, severity, collusion type, number of persons and vehicles, weather, condition of the road etc. \n",
    "- We need to look at the details of the data to understand it and to analyze and prepare it to come up with the optimum data for the classification models.\n",
    "- The data manipulation, EDA and data preprocessing steps will be executed for this purpose. \n",
    "\n",
    "- The description of the columns are as follows: \n",
    "1. __SEVERITYCODE__: A code that corresponds to the severity of the collision\n",
    "1. __X__               \n",
    "1. __Y__               \n",
    "1. __OBJECTID__: ESRI unique identifier          \n",
    "1. __INCKEY__: A unique key for the incident            \n",
    "1. __COLDETKEY__: Secondary key for the incident         \n",
    "1. __REPORTNO__: Collusion report serial number       \n",
    "1. __STATUS__:         \n",
    "1. __ADDRTYPE__: Collision address type, Alley, Block, Intersection         \n",
    "1. __INTKEY__: Key that corresponds to the intersection associated with a collision   \n",
    "1. __LOCATION__: Description of the general location of the collision         \n",
    "1. __EXCEPTRSNCODE__:     \n",
    "1. __EXCEPTRSNDESC__:    \n",
    "1. __SEVERITYCODE.1__:    \n",
    "1. __SEVERITYDESC__: A detailed description of the severity of the collision     \n",
    "1. __COLLISIONTYPE__: Collision type    \n",
    "1. __PERSONCOUNT__: The total number of people involved in the collision       \n",
    "1. __PEDCOUNT__: The number of pedestrians involved in the collision     \n",
    "1. __PEDCYLCOUNT__: The number of bicycles involved in the collision       \n",
    "1. __VEHCOUNT__: The number of vehicles involved in the collision          \n",
    "1. __INCDATE__: The date of the incident       \n",
    "1. __INCDTTM__: The date and time of the incident          \n",
    "1. __JUNCTIONTYPE__: Category of junction at which collision took place    \n",
    "1. __SDOT_COLCODE__: A code given to the collision by SDOT    \n",
    "1. __SDOT_COLDESC__: A description of the collision corresponding to the collision code \n",
    "1. __INATTENTIONIND__: Whether or not collision was due to inattention, (Y/N) \n",
    "1. __UNDERINFL__: Whether or not a driver involved was under the influence of drugs or alcohol\n",
    "1. __WEATHER__: A description of the weather conditions during the time of the collision \n",
    "1. __ROADCOND__: The condition of the road during the collision        \n",
    "1. __LIGHTCOND__: The light conditions during the collision.     \n",
    "1. __PEDROWNOTGRNT__: Whether or not the pedestrian right of way was not granted. (Y/N) \n",
    "1. __SDOTCOLNUM__: A number given to the collision by SDOT\n",
    "1. __SPEEDING__: Whether or not speeding was a factor in the collision. (Y/N)         \n",
    "1. __ST_COLCODE__: A code provided by the state that describes the collision     \n",
    "1. __ST_COLDESC__: A description that corresponds to the state’s coding designation\n",
    "1. __SEGLANEKEY__: A key for the lane segment in which the collision occurred\n",
    "1. __CROSSWALKKEY__: A key for the crosswalk at which the collision occurred    \n",
    "1. __HITPARKEDCAR__: Whether or not the collision involved hitting a parked car. (Y/N)"
   ]
  },
  {
   "cell_type": "code",
   "execution_count": null,
   "metadata": {},
   "outputs": [],
   "source": []
  }
 ],
 "metadata": {
  "kernelspec": {
   "display_name": "Python 3",
   "language": "python",
   "name": "python3"
  },
  "language_info": {
   "codemirror_mode": {
    "name": "ipython",
    "version": 3
   },
   "file_extension": ".py",
   "mimetype": "text/x-python",
   "name": "python",
   "nbconvert_exporter": "python",
   "pygments_lexer": "ipython3",
   "version": "3.7.3"
  }
 },
 "nbformat": 4,
 "nbformat_minor": 2
}
