{
 "cells": [
  {
   "cell_type": "markdown",
   "metadata": {},
   "source": [
    "# This notebook will the main notebook for my Cursera Capstone project. "
   ]
  },
  {
   "cell_type": "code",
   "execution_count": 1,
   "metadata": {},
   "outputs": [],
   "source": [
    "import numpy as np\n",
    "import pandas as pd"
   ]
  },
  {
   "cell_type": "code",
   "execution_count": 2,
   "metadata": {},
   "outputs": [
    {
     "name": "stdout",
     "output_type": "stream",
     "text": [
      "Hello Capstone Project Course!\n"
     ]
    }
   ],
   "source": [
    "print('Hello Capstone Project Course!')"
   ]
  },
  {
   "cell_type": "markdown",
   "metadata": {},
   "source": [
    "# Project Objective\n",
    "- The objective of the project is to build a classifier model to predict the level of severity in case of a traffic collusion based on the given the details of the collusion. \n",
    "- To achieve this purpose the data taken from Seattle Police Department and Seattle Traffic Department will be used. The data is provided by Cursera within the framework of ML Capstone project.\n",
    "- Nevertheless, first we need to understand, prepare and analyze the data.\n",
    "- Then, we can use different classification models and compare their performance to come up with the best model. "
   ]
  },
  {
   "cell_type": "markdown",
   "metadata": {},
   "source": [
    "# Data\n",
    "- The data is taken from Seattle Police Department and Seattle Traffic Department records. It is provided by Cursera within the framework of ML Capstone project.\n",
    "- It has 38 columns and 194672 rows. 16 columns are numerical and the rest is categorical or object variables. \n",
    "- The data includes details of a traffic collusion including different types of IDs, location, address, date and time, severity, collusion type, number of persons and vehicles, weather, condition of the road etc. \n",
    "- We need to look at the details of the data to understand it and to analyze and prepare it to come up with the optimum data for the classification models.\n",
    "- The data manipulation, EDA and data preprocessing steps will be executed for this purpose. "
   ]
  },
  {
   "cell_type": "code",
   "execution_count": null,
   "metadata": {},
   "outputs": [],
   "source": []
  }
 ],
 "metadata": {
  "kernelspec": {
   "display_name": "Python 3",
   "language": "python",
   "name": "python3"
  },
  "language_info": {
   "codemirror_mode": {
    "name": "ipython",
    "version": 3
   },
   "file_extension": ".py",
   "mimetype": "text/x-python",
   "name": "python",
   "nbconvert_exporter": "python",
   "pygments_lexer": "ipython3",
   "version": "3.7.3"
  }
 },
 "nbformat": 4,
 "nbformat_minor": 2
}
